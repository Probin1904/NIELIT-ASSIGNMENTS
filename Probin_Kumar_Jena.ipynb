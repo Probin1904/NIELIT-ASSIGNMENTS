{
  "nbformat": 4,
  "nbformat_minor": 0,
  "metadata": {
    "colab": {
      "provenance": [],
      "authorship_tag": "ABX9TyPbR813pTXXc4MELnt///9y",
      "include_colab_link": true
    },
    "kernelspec": {
      "name": "python3",
      "display_name": "Python 3"
    },
    "language_info": {
      "name": "python"
    }
  },
  "cells": [
    {
      "cell_type": "markdown",
      "metadata": {
        "id": "view-in-github",
        "colab_type": "text"
      },
      "source": [
        "<a href=\"https://colab.research.google.com/github/Probin1904/NIELIT-ASSIGNMENTS/blob/main/Probin_Kumar_Jena.ipynb\" target=\"_parent\"><img src=\"https://colab.research.google.com/assets/colab-badge.svg\" alt=\"Open In Colab\"/></a>"
      ]
    },
    {
      "cell_type": "markdown",
      "source": [
        "# Name:Probin Kumar Jena\n",
        "# Course: Python with Data Science And Machine Learning (4-weeks)"
      ],
      "metadata": {
        "id": "kx-PQEhjIvj1"
      }
    },
    {
      "cell_type": "markdown",
      "source": [
        "# **Assingment:1**"
      ],
      "metadata": {
        "id": "BlS0zlhGJawp"
      }
    },
    {
      "cell_type": "markdown",
      "source": [
        "Q1. Declare and Print"
      ],
      "metadata": {
        "id": "cgPIk9ImJuwq"
      }
    },
    {
      "cell_type": "code",
      "source": [
        "Name = \"Probin Kumar Jena\"\n",
        "Course = \"Python With Data Science and Machine Learning (4 Weeks)\"\n",
        "Assignment = \"Assignment:1\"\n",
        "Question = \"Q1 Declare and Print\"\n",
        "\n",
        "print(f\"Name - {Name}\")\n",
        "print(f\"Course - {Course}\")\n",
        "print(f\"{Assignment}\")\n",
        "print(f\"{Question}\")"
      ],
      "metadata": {
        "colab": {
          "base_uri": "https://localhost:8080/"
        },
        "id": "qk2cT1wCpzeP",
        "outputId": "db33241c-ab4b-476e-8638-d8179912958a"
      },
      "execution_count": null,
      "outputs": [
        {
          "output_type": "stream",
          "name": "stdout",
          "text": [
            "Name - Probin Kumar Jena\n",
            "Course - Python With Data Science and Machine Learning (4 Weeks)\n",
            "Assignment:1\n",
            "Q1 Declare and Print\n"
          ]
        }
      ]
    },
    {
      "cell_type": "markdown",
      "source": [
        "Q2. Swap Two Numbers"
      ],
      "metadata": {
        "id": "0Ir7UFFBp_8D"
      }
    },
    {
      "cell_type": "code",
      "source": [
        "a = 5\n",
        "b = 10\n",
        "a, b = b, a\n",
        "print(\"a =\", a)\n",
        "print(\"b =\", b)\n"
      ],
      "metadata": {
        "colab": {
          "base_uri": "https://localhost:8080/"
        },
        "id": "ObB09L_EqEXw",
        "outputId": "90a92b37-f067-402b-f007-0191ee5be0f9"
      },
      "execution_count": null,
      "outputs": [
        {
          "output_type": "stream",
          "name": "stdout",
          "text": [
            "a = 10\n",
            "b = 5\n"
          ]
        }
      ]
    },
    {
      "cell_type": "markdown",
      "source": [
        "Q3. Arithmetic Operations"
      ],
      "metadata": {
        "id": "3JPZQ1cGq3iI"
      }
    },
    {
      "cell_type": "code",
      "source": [
        "a = 7\n",
        "b = 2\n",
        "\n",
        "print(\"Sum: \", a + b)\n",
        "print(\"Subtraction: \", a - b)\n",
        "print(\"Multiplication: \", a * b)\n",
        "print(\"Division: \", a / b)\n",
        "print(\"Floor Division: \", a // b)\n",
        "print(\"Modulo: \", a % b)\n",
        "print(\"Power: \", a ** b)\n"
      ],
      "metadata": {
        "colab": {
          "base_uri": "https://localhost:8080/"
        },
        "id": "Oc9RVj2er-gk",
        "outputId": "b3b0773d-087a-40f9-a474-5fc38ade2872"
      },
      "execution_count": 7,
      "outputs": [
        {
          "output_type": "stream",
          "name": "stdout",
          "text": [
            "Sum:  9\n",
            "Subtraction:  5\n",
            "Multiplication:  14\n",
            "Division:  3.5\n",
            "Floor Division:  3\n",
            "Modulo:  1\n",
            "Power:  49\n"
          ]
        }
      ]
    },
    {
      "cell_type": "markdown",
      "source": [
        "Q4.Percentage Calculation"
      ],
      "metadata": {
        "id": "oIr8tAPTxlry"
      }
    },
    {
      "cell_type": "code",
      "source": [
        "Physics = int(input(\"Enter the marks of Physics: \"))\n",
        "Chemistry = int(input(\"Enter the marks of Chemistry: \"))\n",
        "Maths = int(input(\"Enter the marks of Maths: \"))\n",
        "English = int(input(\"Enter the marks of English: \"))\n",
        "Computer_Science = int(input(\"Enter the marks of Computer Science: \"))\n",
        "\n",
        "Total = Physics + Chemistry + Maths + English + Computer_Science\n",
        "\n",
        "Percentage = (Total / 500) * 100\n",
        "\n",
        "print(f\"Total Marks: {Total}\")\n",
        "print(f\"Percentage: {Percentage}%\")"
      ],
      "metadata": {
        "colab": {
          "base_uri": "https://localhost:8080/"
        },
        "id": "rawekBMIx7x5",
        "outputId": "39135f99-1af8-4a3a-c3c3-9dfb1d0734b0"
      },
      "execution_count": null,
      "outputs": [
        {
          "output_type": "stream",
          "name": "stdout",
          "text": [
            "Enter the marks of Physics: 89\n",
            "Enter the marks of Chemistry: 66\n",
            "Enter the marks of Maths: 70\n",
            "Enter the marks of English: 87\n",
            "Enter the marks of Computer Science: 85\n",
            "Total Marks: 397\n",
            "Percentage: 79.4%\n"
          ]
        }
      ]
    },
    {
      "cell_type": "markdown",
      "source": [
        "Q5.Compound Assignment Operator"
      ],
      "metadata": {
        "id": "J3d2L86OynyF"
      }
    },
    {
      "cell_type": "code",
      "source": [
        "x = 10\n",
        "\n",
        "x += 5\n",
        "print(\"After x += 5: \", x)\n",
        "\n",
        "x -= 3\n",
        "print(\"After x -= 3: \", x)\n",
        "\n",
        "x *= 2\n",
        "print(\"After x *= 2: \", x)\n",
        "\n",
        "x /= 4\n",
        "print(\"After x /= 4: \", x)\n",
        "\n",
        "x //= 2\n",
        "print(\"After x //= 2: \", x)\n",
        "\n",
        "x **= 2\n",
        "print(\"After x **= 2: \", x)\n"
      ],
      "metadata": {
        "colab": {
          "base_uri": "https://localhost:8080/"
        },
        "id": "GKaB5HJUyw1k",
        "outputId": "1c65e0c9-193c-4dc5-8c95-aa54f7779f10"
      },
      "execution_count": null,
      "outputs": [
        {
          "output_type": "stream",
          "name": "stdout",
          "text": [
            "After x += 5:  15\n",
            "After x -= 3:  12\n",
            "After x *= 2:  24\n",
            "After x /= 4:  6.0\n",
            "After x //= 2:  3.0\n",
            "After x **= 2:  9.0\n"
          ]
        }
      ]
    },
    {
      "cell_type": "markdown",
      "source": [
        "Q6. Relational Operator"
      ],
      "metadata": {
        "id": "xlBBNXHIzGQt"
      }
    },
    {
      "cell_type": "code",
      "source": [
        "a = 33\n",
        "b = 20\n",
        "\n",
        "print(a == b)\n",
        "print(a != b)\n",
        "print(a > b)\n",
        "print(a < b)\n",
        "print(a >= b)\n",
        "print(a <= b)\n"
      ],
      "metadata": {
        "colab": {
          "base_uri": "https://localhost:8080/"
        },
        "id": "4TEoBTOkzp5u",
        "outputId": "cef4d8f2-4c16-4792-c456-0d46be565be6"
      },
      "execution_count": null,
      "outputs": [
        {
          "output_type": "stream",
          "name": "stdout",
          "text": [
            "False\n",
            "True\n",
            "True\n",
            "False\n",
            "True\n",
            "False\n"
          ]
        }
      ]
    },
    {
      "cell_type": "markdown",
      "source": [
        "Q7. Logical Operator"
      ],
      "metadata": {
        "id": "TUhP6akC0MD6"
      }
    },
    {
      "cell_type": "code",
      "source": [
        "age = int(input(\"Enter your age: \"))\n",
        "has_ticket = input(\"Do you have a ticket? (yes/no): \").lower() == \"yes\"\n",
        "\n",
        "if age >= 18 and has_ticket:\n",
        "    print(\"Welcome aboard! You are eligible for the ride.\")\n",
        "elif age < 18 and has_ticket:\n",
        "    print(\"Sorry, you must be at least 18 years old to ride.\")\n",
        "elif not has_ticket:\n",
        "    print(\"Please purchase a ticket before boarding.\")\n",
        "else:\n",
        "    print(\"Invalid input.\")\n"
      ],
      "metadata": {
        "colab": {
          "base_uri": "https://localhost:8080/"
        },
        "id": "TfLbuk6LtqIy",
        "outputId": "ecb77a19-4235-4058-846a-f0dda632d1af"
      },
      "execution_count": null,
      "outputs": [
        {
          "output_type": "stream",
          "name": "stdout",
          "text": [
            "Enter your age: 21\n",
            "Do you have a ticket? (yes/no): yes\n",
            "Welcome aboard! You are eligible for the ride.\n"
          ]
        }
      ]
    },
    {
      "cell_type": "markdown",
      "source": [
        "Q8. Identity Operator"
      ],
      "metadata": {
        "id": "s0-Wf4nlubbc"
      }
    },
    {
      "cell_type": "code",
      "source": [
        "x = [1, 2, 3]\n",
        "y = [1, 2, 3]\n",
        "z = x\n",
        "\n",
        "print(x is y)\n",
        "print(x is z)\n",
        "print(x is not y)\n",
        "print(x is not z)\n",
        "\n"
      ],
      "metadata": {
        "colab": {
          "base_uri": "https://localhost:8080/"
        },
        "id": "7iEqYVWcyMJI",
        "outputId": "6a623366-3ba0-4a54-8558-d82cf3591d35"
      },
      "execution_count": null,
      "outputs": [
        {
          "output_type": "stream",
          "name": "stdout",
          "text": [
            "False\n",
            "True\n",
            "True\n",
            "False\n"
          ]
        }
      ]
    },
    {
      "cell_type": "markdown",
      "source": [
        "Q9. Bitwise Operator\n"
      ],
      "metadata": {
        "id": "wTW9DcIiyu0n"
      }
    },
    {
      "cell_type": "code",
      "source": [
        "a = int(input(\"Enter the value of a: \"))\n",
        "b = int(input(\"Enter the value of b: \"))\n",
        "\n",
        "print(f\"a & b: {a & b}\")\n",
        "print(f\"a | b: {a | b}\")\n",
        "print(f\"a ^ b: {a ^ b}\")\n",
        "print(f\"~a: {~a}\")\n",
        "print(f\"a << 2: {a << 2}\")\n",
        "print(f\"a >> 2: {a >> 2}\")\n"
      ],
      "metadata": {
        "colab": {
          "base_uri": "https://localhost:8080/"
        },
        "id": "KcMLktLrzhUu",
        "outputId": "efb4e9cb-9768-4ac7-d680-c8391362d0f0"
      },
      "execution_count": null,
      "outputs": [
        {
          "output_type": "stream",
          "name": "stdout",
          "text": [
            "Enter the value of a: 34\n",
            "Enter the value of b: 27\n",
            "a & b: 2\n",
            "a | b: 59\n",
            "a ^ b: 57\n",
            "~a: -35\n",
            "a << 2: 136\n",
            "a >> 2: 8\n"
          ]
        }
      ]
    },
    {
      "cell_type": "markdown",
      "source": [
        "Q10. Variable Types and Typecasting"
      ],
      "metadata": {
        "id": "r-CgOYEL0nss"
      }
    },
    {
      "cell_type": "code",
      "source": [
        "a = 10\n",
        "b = 3.5\n",
        "c = \"Hello\"\n",
        "d = True\n",
        "\n",
        "# User input and typecasting\n",
        "num = int(input(\"Enter a number: \"))\n",
        "price = float(input(\"Enter price: \"))\n",
        "\n",
        "# Type checking and conversion\n",
        "print(type(a), type(b), type(c), type(d))\n",
        "print(\"Number as string:\", str(num))\n",
        "print(\"Price as integer:\", int(price))\n",
        "\n"
      ],
      "metadata": {
        "colab": {
          "base_uri": "https://localhost:8080/"
        },
        "id": "yvY4XmNz0ocF",
        "outputId": "e2388880-314a-4eb8-8cc5-cbfbf21f3237"
      },
      "execution_count": null,
      "outputs": [
        {
          "output_type": "stream",
          "name": "stdout",
          "text": [
            "Enter a number: 10\n",
            "Enter price: 35\n",
            "<class 'int'> <class 'float'> <class 'str'> <class 'bool'>\n",
            "Number as string: 10\n",
            "Price as integer: 35\n"
          ]
        }
      ]
    },
    {
      "cell_type": "markdown",
      "source": [
        "# **Assignment:2**"
      ],
      "metadata": {
        "id": "NkWoSkA0Kpn2"
      }
    },
    {
      "cell_type": "markdown",
      "source": [
        "Q1. Write a program to print number from 1 to 10 stop loop when number reach 9."
      ],
      "metadata": {
        "id": "ain-U4D3TYDZ"
      }
    },
    {
      "cell_type": "code",
      "source": [
        "for num in range(1, 11):  # 1 to 10 inclusive\n",
        "    print(num)\n",
        "    if num == 9:\n",
        "        break\n"
      ],
      "metadata": {
        "colab": {
          "base_uri": "https://localhost:8080/"
        },
        "id": "PH9A_OAkUSsr",
        "outputId": "6a858a66-9c56-46d0-9b65-67afa7181401"
      },
      "execution_count": null,
      "outputs": [
        {
          "output_type": "stream",
          "name": "stdout",
          "text": [
            "1\n",
            "2\n",
            "3\n",
            "4\n",
            "5\n",
            "6\n",
            "7\n",
            "8\n",
            "9\n"
          ]
        }
      ]
    },
    {
      "cell_type": "markdown",
      "source": [
        "Q2. Write a program that keep asking the user to enter the number and stop when\n",
        "user enters a negative number."
      ],
      "metadata": {
        "id": "1HWh1dz3UXZG"
      }
    },
    {
      "cell_type": "code",
      "source": [
        "while True:\n",
        "    num = float(input(\"Enter a number (enter a negative number to stop): \"))\n",
        "    if num < 0:\n",
        "        break\n"
      ],
      "metadata": {
        "colab": {
          "base_uri": "https://localhost:8080/"
        },
        "id": "6MIJ1b91UjD8",
        "outputId": "b4456cb9-c38e-4330-96b1-255c0ed58172"
      },
      "execution_count": null,
      "outputs": [
        {
          "name": "stdout",
          "output_type": "stream",
          "text": [
            "Enter a number (enter a negative number to stop): -34\n"
          ]
        }
      ]
    },
    {
      "cell_type": "markdown",
      "source": [
        "Q3. Write a program to find first even number in a list using for loop and break"
      ],
      "metadata": {
        "id": "psDFob1NVdm4"
      }
    },
    {
      "cell_type": "code",
      "source": [
        "numbers = [5, 3, 7, 2, 9, 6, 4]\n",
        "\n",
        "for num in numbers:\n",
        "    if num % 2 == 0:\n",
        "        print(\"First even number:\", num)\n",
        "        break\n"
      ],
      "metadata": {
        "colab": {
          "base_uri": "https://localhost:8080/"
        },
        "id": "enUT3HYXVurY",
        "outputId": "c566ca0a-da60-416e-f77e-6c76225833b3"
      },
      "execution_count": null,
      "outputs": [
        {
          "output_type": "stream",
          "name": "stdout",
          "text": [
            "First even number: 2\n"
          ]
        }
      ]
    },
    {
      "cell_type": "markdown",
      "source": [
        "Q4. Keep adding number onwards until total sum exceeds 25 print last sum and digit."
      ],
      "metadata": {
        "id": "62qWCQgnV9hl"
      }
    },
    {
      "cell_type": "code",
      "source": [
        "total_sum = int(input(\"Enter the initial sum: \"))\n",
        "digit = int(input(\"Enter the initial digit: \"))\n",
        "\n",
        "while total_sum <= 25:\n",
        "  digit += 1\n",
        "  total_sum += digit\n",
        "\n",
        "print(f\"Last sum: {total_sum}\")\n",
        "print(f\"Last digit: {digit}\")"
      ],
      "metadata": {
        "colab": {
          "base_uri": "https://localhost:8080/"
        },
        "id": "3x2s0TEpWSzN",
        "outputId": "814f6f57-4c60-42e0-d873-b825da2189c6"
      },
      "execution_count": null,
      "outputs": [
        {
          "output_type": "stream",
          "name": "stdout",
          "text": [
            "Enter the initial sum: 7\n",
            "Enter the initial digit: 12\n",
            "Last sum: 34\n",
            "Last digit: 14\n"
          ]
        }
      ]
    },
    {
      "cell_type": "markdown",
      "source": [
        "Q5. Keep asking the user to guess the password until they guess admin123, use while and break."
      ],
      "metadata": {
        "id": "yEkY-1--Wm9X"
      }
    },
    {
      "cell_type": "code",
      "source": [
        "while True:\n",
        "    password_guess = input(\"Guess the password: \")\n",
        "    if password_guess == \"admin123\":\n",
        "        print(\"Correct password!\")\n",
        "        break\n",
        "    else:\n",
        "        print(\"Incorrect password. Try again.\")"
      ],
      "metadata": {
        "colab": {
          "base_uri": "https://localhost:8080/"
        },
        "id": "eKGLryBBWzJS",
        "outputId": "515dd498-69d0-4133-dc3d-a870d60ae7b2"
      },
      "execution_count": null,
      "outputs": [
        {
          "output_type": "stream",
          "name": "stdout",
          "text": [
            "Guess the password: qw190\n",
            "Incorrect password. Try again.\n",
            "Guess the password: 12qwsd\n",
            "Incorrect password. Try again.\n",
            "Guess the password: admin1\n",
            "Incorrect password. Try again.\n",
            "Guess the password: admin123\n",
            "Correct password!\n"
          ]
        }
      ]
    },
    {
      "cell_type": "markdown",
      "source": [
        "Q6.Print multiples of 7 using while loop, stop the value greater than 100."
      ],
      "metadata": {
        "id": "C-tn7tXOXLrM"
      }
    },
    {
      "cell_type": "code",
      "source": [
        "i = 7\n",
        "while i <= 100:\n",
        "    print(i)\n",
        "    i += 7\n"
      ],
      "metadata": {
        "colab": {
          "base_uri": "https://localhost:8080/"
        },
        "id": "b0i4v-BgXWsG",
        "outputId": "e9cb755a-34da-43c7-98d1-62999ad63e7c"
      },
      "execution_count": null,
      "outputs": [
        {
          "output_type": "stream",
          "name": "stdout",
          "text": [
            "7\n",
            "14\n",
            "21\n",
            "28\n",
            "35\n",
            "42\n",
            "49\n",
            "56\n",
            "63\n",
            "70\n",
            "77\n",
            "84\n",
            "91\n",
            "98\n"
          ]
        }
      ]
    },
    {
      "cell_type": "markdown",
      "source": [
        "Q7. Given a number print each digit until a zero is found."
      ],
      "metadata": {
        "id": "Umcm8VcRXf1A"
      }
    },
    {
      "cell_type": "code",
      "source": [
        "number = input(\"Enter a number: \")\n",
        "for digit in number:\n",
        "    if digit == '0':\n",
        "        break\n",
        "    print(digit)\n"
      ],
      "metadata": {
        "colab": {
          "base_uri": "https://localhost:8080/"
        },
        "id": "RJpjcZQwXurx",
        "outputId": "8bf285a9-67aa-4cca-d250-80025ba53a2e"
      },
      "execution_count": null,
      "outputs": [
        {
          "output_type": "stream",
          "name": "stdout",
          "text": [
            "Enter a number: 123045\n",
            "1\n",
            "2\n",
            "3\n"
          ]
        }
      ]
    },
    {
      "cell_type": "markdown",
      "source": [
        "# **Assignment:3**"
      ],
      "metadata": {
        "id": "Y87mkJyhK67D"
      }
    },
    {
      "cell_type": "markdown",
      "source": [
        "Q1. Take a sentence and reverse the order of its words. Example: \"I love Python\" → \"Python love I\"\n"
      ],
      "metadata": {
        "id": "OhYFWDnwLPp-"
      }
    },
    {
      "cell_type": "code",
      "source": [
        "sentence = \"I love Python\"\n",
        "words = sentence.split()\n",
        "reversed_sentence = ' '.join(reversed(words))\n",
        "print(reversed_sentence)\n"
      ],
      "metadata": {
        "colab": {
          "base_uri": "https://localhost:8080/"
        },
        "id": "NKoqpm-lLhtV",
        "outputId": "41393768-fdec-4237-bc0f-b01a465d5f8b"
      },
      "execution_count": null,
      "outputs": [
        {
          "output_type": "stream",
          "name": "stdout",
          "text": [
            "Python love I\n"
          ]
        }
      ]
    },
    {
      "cell_type": "markdown",
      "source": [
        "Q2. Given a string, count consonants (non-vowel letters, ignoring case). Example: \"Hello World\" →\n",
        "7 (H, l, l, W, r, l, d)."
      ],
      "metadata": {
        "id": "x6Kr9fx1MCZT"
      }
    },
    {
      "cell_type": "code",
      "source": [
        "text = input(\"Enter a string: \")\n",
        "\n",
        "vowels = \"aeiou\"\n",
        "consonant_count = 0\n",
        "\n",
        "for char in text.lower():\n",
        "    if char.isalpha() and char not in vowels:\n",
        "        consonant_count += 1\n",
        "\n",
        "print(\"Number of consonants:\", consonant_count)"
      ],
      "metadata": {
        "colab": {
          "base_uri": "https://localhost:8080/"
        },
        "id": "9EQaUbNAMYpr",
        "outputId": "7c3d16ff-72dd-47f6-8db3-8549eb54c814"
      },
      "execution_count": null,
      "outputs": [
        {
          "output_type": "stream",
          "name": "stdout",
          "text": [
            "Enter a string: 12\n",
            "Number of consonants: 0\n"
          ]
        }
      ]
    },
    {
      "cell_type": "markdown",
      "source": [
        "Q3. Check if two strings are anagrams (same characters, same frequency, ignoring case).\n"
      ],
      "metadata": {
        "id": "Srfb4FvSPEs6"
      }
    },
    {
      "cell_type": "code",
      "source": [
        "def are_anagrams(s1, s2):\n",
        "    # Remove non-alphabetic characters and convert to lowercase\n",
        "    s1_clean = ''.join(ch.lower() for ch in s1 if ch.isalpha())\n",
        "    s2_clean = ''.join(ch.lower() for ch in s2 if ch.isalpha())\n",
        "    # Compare sorted strings\n",
        "    return sorted(s1_clean) == sorted(s2_clean)\n",
        "\n",
        "str1 = \"listen\"\n",
        "str2 = \"silent\"\n",
        "print(are_anagrams(str1, str2))\n",
        "\n",
        "str3 = \"Hello\"\n",
        "str4 = \"World\"\n",
        "print(are_anagrams(str3, str4))\n"
      ],
      "metadata": {
        "colab": {
          "base_uri": "https://localhost:8080/"
        },
        "id": "eUqHvgyMPKI2",
        "outputId": "7efe1084-c638-47a6-def4-bf1dcfd2a59d"
      },
      "execution_count": 20,
      "outputs": [
        {
          "output_type": "stream",
          "name": "stdout",
          "text": [
            "True\n",
            "False\n"
          ]
        }
      ]
    },
    {
      "cell_type": "markdown",
      "source": [
        "Q4. Find the first character in a string that appears only once (case-sensitive). Example: \"swiss\" →\n",
        "\"w\", \"programming\" → \"r\".\n"
      ],
      "metadata": {
        "id": "839DGl1lPaOl"
      }
    },
    {
      "cell_type": "code",
      "source": [
        "def first_unique_char(s):\n",
        "    frequency = {}\n",
        "    # Count frequency of each character\n",
        "    for ch in s:\n",
        "        if ch in frequency:\n",
        "            frequency[ch] += 1\n",
        "        else:\n",
        "            frequency[ch] = 1\n",
        "    # Find the first character with frequency 1\n",
        "    for ch in s:\n",
        "        if frequency[ch] == 1:\n",
        "            return ch\n",
        "    return None\n",
        "\n",
        "print(first_unique_char(\"swiss\"))\n",
        "print(first_unique_char(\"programming\"))\n"
      ],
      "metadata": {
        "colab": {
          "base_uri": "https://localhost:8080/"
        },
        "id": "y7HjxywTPfxm",
        "outputId": "c2b4ec24-244d-498d-ef36-7a1ae98fc2bf"
      },
      "execution_count": null,
      "outputs": [
        {
          "output_type": "stream",
          "name": "stdout",
          "text": [
            "w\n",
            "p\n"
          ]
        }
      ]
    },
    {
      "cell_type": "markdown",
      "source": [
        "Q5.Compress a string by replacing repeated characters with the character and count. Example:\n",
        "\"aaabbc\" → \"a3b2c1\". If compressed string isn’t shorter, return original.\n"
      ],
      "metadata": {
        "id": "praHJevnP4CG"
      }
    },
    {
      "cell_type": "code",
      "source": [
        "def compress_string(s):\n",
        "    if not s:\n",
        "        return s\n",
        "    compressed = []\n",
        "    current_char = s[0]\n",
        "    count = 1\n",
        "    for ch in s[1:]:\n",
        "        if ch == current_char:\n",
        "            count += 1\n",
        "        else:\n",
        "            compressed.append(f\"{current_char}{count}\")\n",
        "            current_char = ch\n",
        "            count = 1\n",
        "    compressed.append(f\"{current_char}{count}\")\n",
        "    compressed_str = \"\".join(compressed)\n",
        "    return compressed_str if len(compressed_str) < len(s) else s\n",
        "\n",
        "print(compress_string(\"aaabbc\"))\n",
        "print(compress_string(\"abc\"))\n",
        "print(compress_string(\"aabcccccaaa\"))\n"
      ],
      "metadata": {
        "colab": {
          "base_uri": "https://localhost:8080/"
        },
        "id": "K-u5QhF3P6M4",
        "outputId": "bcc7dc1f-a6dc-4e4e-bc75-22b61acbe433"
      },
      "execution_count": null,
      "outputs": [
        {
          "output_type": "stream",
          "name": "stdout",
          "text": [
            "aaabbc\n",
            "abc\n",
            "a2b1c5a3\n"
          ]
        }
      ]
    },
    {
      "cell_type": "markdown",
      "source": [
        "Q6. Find the longest substring in a string that is a palindrome (case-sensitive). Example: \"babad\" →\n",
        "\"bab\" (or \"aba\"), \"cbbd\" → \"bb\". If multiple exist, return the first."
      ],
      "metadata": {
        "id": "yQjP3oAaQiOr"
      }
    },
    {
      "cell_type": "code",
      "source": [
        "def longest_palindromic_substring(s):\n",
        "    if not s or len(s) < 1:\n",
        "        return \"\"\n",
        "\n",
        "    start = 0\n",
        "    end = 0\n",
        "\n",
        "    for i in range(len(s)):\n",
        "        len1 = expand_around_center(s, i, i)       # Odd length\n",
        "        len2 = expand_around_center(s, i, i + 1)   # Even length\n",
        "        max_len = max(len1, len2)\n",
        "        if max_len > end - start:\n",
        "            start = i - (max_len - 1) // 2\n",
        "            end = i + max_len // 2\n",
        "\n",
        "    return s[start:end+1]\n",
        "\n",
        "def expand_around_center(s, left, right):\n",
        "    while left >= 0 and right < len(s) and s[left] == s[right]:\n",
        "        left -= 1\n",
        "        right += 1\n",
        "    return right - left - 1\n",
        "\n",
        "print(longest_palindromic_substring(\"babad\"))\n",
        "print(longest_palindromic_substring(\"cbbd\"))\n"
      ],
      "metadata": {
        "colab": {
          "base_uri": "https://localhost:8080/"
        },
        "id": "aQ7UT1PxQnh7",
        "outputId": "c2735eec-8ff4-4e64-e816-6ace9c21953b"
      },
      "execution_count": null,
      "outputs": [
        {
          "output_type": "stream",
          "name": "stdout",
          "text": [
            "aba\n",
            "bb\n"
          ]
        }
      ]
    },
    {
      "cell_type": "markdown",
      "source": [
        "Q7. Given a string containing only '(', ')', '{', '}', '[', ']', check if the sequence is valid (properly nested\n",
        "and closed). Example: \"({[]})\" → \"Valid\", \"(]\" → \"Invalid\".\n"
      ],
      "metadata": {
        "id": "FbpCj3eVQ5R1"
      }
    },
    {
      "cell_type": "code",
      "source": [
        "def is_valid(s):\n",
        "    stack = []\n",
        "    mapping = {')': '(', '}': '{', ']': '['}\n",
        "    for char in s:\n",
        "        if char in mapping:\n",
        "            if stack and stack[-1] == mapping[char]:\n",
        "                stack.pop()\n",
        "            else:\n",
        "                return False\n",
        "        else:\n",
        "            stack.append(char)\n",
        "    return not stack\n",
        "\n",
        "s = input(\"Enter a string: \")\n",
        "print(\"Valid\" if is_valid(s) else \"Invalid\")\n"
      ],
      "metadata": {
        "colab": {
          "base_uri": "https://localhost:8080/"
        },
        "id": "xYoHxBhZRTHk",
        "outputId": "28888bdd-915c-4e94-ce6e-2da36832f42d"
      },
      "execution_count": null,
      "outputs": [
        {
          "output_type": "stream",
          "name": "stdout",
          "text": [
            "Enter a string: ({[]})\n",
            "Valid\n"
          ]
        }
      ]
    },
    {
      "cell_type": "markdown",
      "source": [
        "Q8. Given a start word, end word, and a list of valid words, find the minimum number of steps to\n",
        "transform the start word to the end word by changing one letter at a time, where each\n",
        "intermediate word must be in the list. All words are same length, lowercase. Example:\n",
        "start=\"hit\", end=\"cog\", wordList=[\"hot\",\"dot\",\"dog\",\"lot\",\"log\",\"cog\"] → 5 (hit → hot → dot → dog →\n",
        "cog). Return 0 if impossible."
      ],
      "metadata": {
        "id": "zjH90jsyTAuW"
      }
    },
    {
      "cell_type": "code",
      "source": [
        "from collections import deque\n",
        "\n",
        "def ladderLength(beginWord, endWord, wordList):\n",
        "    wordSet = set(wordList)\n",
        "    if endWord not in wordSet:\n",
        "        return 0\n",
        "    queue = deque([(beginWord, 1)])\n",
        "    visited = set([beginWord])\n",
        "    while queue:\n",
        "        word, steps = queue.popleft()\n",
        "        if word == endWord:\n",
        "            return steps\n",
        "        for i in range(len(word)):\n",
        "            for c in 'abcdefghijklmnopqrstuvwxyz':\n",
        "                next_word = word[:i] + c + word[i+1:]\n",
        "                if next_word in wordSet and next_word not in visited:\n",
        "                    visited.add(next_word)\n",
        "                    queue.append((next_word, steps + 1))\n",
        "    return 0\n",
        "\n",
        "print(ladderLength(\"hit\", \"cog\", [\"hot\",\"dot\",\"dog\",\"lot\",\"log\",\"cog\"]))\n"
      ],
      "metadata": {
        "colab": {
          "base_uri": "https://localhost:8080/"
        },
        "id": "SX8okYzWTGdj",
        "outputId": "30c90265-d02b-4561-b601-87de81d9a1af"
      },
      "execution_count": 19,
      "outputs": [
        {
          "output_type": "stream",
          "name": "stdout",
          "text": [
            "5\n"
          ]
        }
      ]
    },
    {
      "cell_type": "markdown",
      "source": [
        "# **Assignment:4**"
      ],
      "metadata": {
        "id": "g2XfXkNCLHOq"
      }
    },
    {
      "cell_type": "markdown",
      "source": [
        "Q1. Create a dictionary of 5 students with their names as keys and marks as values. Print all the keys and values.\n"
      ],
      "metadata": {
        "id": "0R2mCYCaS_r4"
      }
    },
    {
      "cell_type": "code",
      "source": [
        "# Create a dictionary of students with marks\n",
        "students = {\n",
        "    \"Rahul\": 85,\n",
        "    \"Priya\": 92,\n",
        "    \"Amit\": 78,\n",
        "    \"Neha\": 89,\n",
        "    \"Suresh\": 76\n",
        "}\n",
        "\n",
        "# Print all keys (names)\n",
        "print(\"Names (keys):\")\n",
        "for name in students:\n",
        "    print(name)\n",
        "# Alternatively: print(list(students.keys()))\n",
        "\n",
        "# Print all values (marks)\n",
        "print(\"\\nMarks (values):\")\n",
        "for mark in students.values():\n",
        "    print(mark)\n",
        "# Alternatively: print(list(students.values()))\n",
        "\n",
        "# Print all key-value pairs\n",
        "print(\"\\nAll key-value pairs:\")\n",
        "for name, mark in students.items():\n",
        "    print(name, \":\", mark)\n"
      ],
      "metadata": {
        "colab": {
          "base_uri": "https://localhost:8080/"
        },
        "id": "O37ATSWdTSCh",
        "outputId": "27802544-2172-4296-9b58-e02e1b80b968"
      },
      "execution_count": null,
      "outputs": [
        {
          "output_type": "stream",
          "name": "stdout",
          "text": [
            "Names (keys):\n",
            "Rahul\n",
            "Priya\n",
            "Amit\n",
            "Neha\n",
            "Suresh\n",
            "\n",
            "Marks (values):\n",
            "85\n",
            "92\n",
            "78\n",
            "89\n",
            "76\n",
            "\n",
            "All key-value pairs:\n",
            "Rahul : 85\n",
            "Priya : 92\n",
            "Amit : 78\n",
            "Neha : 89\n",
            "Suresh : 76\n"
          ]
        }
      ]
    },
    {
      "cell_type": "markdown",
      "source": [
        "Q2. Write a program to count the frequency of each character in a given string using a dictionary."
      ],
      "metadata": {
        "id": "RJ_LQFJvT0Mr"
      }
    },
    {
      "cell_type": "code",
      "source": [
        "# Given string\n",
        "s = \"probin\"\n",
        "\n",
        "# Initialize an empty dictionary\n",
        "frequency = {}\n",
        "\n",
        "# Count frequency of each character\n",
        "for char in s:\n",
        "    if char in frequency:\n",
        "        frequency[char] += 1\n",
        "    else:\n",
        "        frequency[char] = 1\n",
        "\n",
        "# Print the frequency of each character\n",
        "for char, count in frequency.items():\n",
        "    print(f\"'{char}' : {count}\")\n"
      ],
      "metadata": {
        "colab": {
          "base_uri": "https://localhost:8080/"
        },
        "id": "bUvl9rDcUAue",
        "outputId": "88adcb4a-51e7-4afc-a8ee-d75a67c1dade"
      },
      "execution_count": null,
      "outputs": [
        {
          "output_type": "stream",
          "name": "stdout",
          "text": [
            "'p' : 1\n",
            "'r' : 1\n",
            "'o' : 1\n",
            "'b' : 1\n",
            "'i' : 1\n",
            "'n' : 1\n"
          ]
        }
      ]
    },
    {
      "cell_type": "markdown",
      "source": [
        "3. Create a dictionary with names as keys and ages as values. Print the name(s) of the oldest person(s).\n"
      ],
      "metadata": {
        "id": "bR0xsWX3UVTb"
      }
    },
    {
      "cell_type": "code",
      "source": [
        "people = {\n",
        "    \"Sahil\": 34,\n",
        "    \"Rahul\": 56,\n",
        "    \"Saksham\": 42,\n",
        "    \"Saiyam\": 56,\n",
        "    \"Shrine\": 29\n",
        "}\n",
        "\n",
        "# Find the maximum age\n",
        "max_age = max(people.values())\n",
        "\n",
        "# Find all names with the maximum age\n",
        "oldest_names = [name for name, age in people.items() if age == max_age]\n",
        "\n",
        "# Print the result\n",
        "print(\"Oldest person(s):\", \", \".join(oldest_names))\n"
      ],
      "metadata": {
        "colab": {
          "base_uri": "https://localhost:8080/"
        },
        "id": "Fy0s2fKQUdir",
        "outputId": "9676ed39-df51-4665-910f-3ed658c1ae46"
      },
      "execution_count": null,
      "outputs": [
        {
          "output_type": "stream",
          "name": "stdout",
          "text": [
            "Oldest person(s): Rahul, Saiyam\n"
          ]
        }
      ]
    },
    {
      "cell_type": "markdown",
      "source": [
        "Q4. Merge two dictionaries and print the merged dictionary.\n"
      ],
      "metadata": {
        "id": "GPsv7MjwVO2l"
      }
    },
    {
      "cell_type": "code",
      "source": [
        "# Two dictionaries\n",
        "dict1 = {'a': 1, 'b': 2}\n",
        "dict2 = {'c': 3, 'd': 4}\n",
        "\n",
        "# Merge dictionaries (Python 3.5+)\n",
        "merged_dict = {**dict1, **dict2}\n",
        "\n",
        "# Print the merged dictionary\n",
        "print(\"Merged dictionary:\", merged_dict)\n"
      ],
      "metadata": {
        "colab": {
          "base_uri": "https://localhost:8080/"
        },
        "id": "4Nx_7v3pVi7B",
        "outputId": "1e39d419-83cc-4cb9-8b6c-3ac9ac427ebb"
      },
      "execution_count": null,
      "outputs": [
        {
          "output_type": "stream",
          "name": "stdout",
          "text": [
            "Merged dictionary: {'a': 1, 'b': 2, 'c': 3, 'd': 4}\n"
          ]
        }
      ]
    },
    {
      "cell_type": "markdown",
      "source": [
        "5. Create a dictionary where the keys are numbers between 1 and 10, and the values are their squares"
      ],
      "metadata": {
        "id": "eBaeid_UVyZG"
      }
    },
    {
      "cell_type": "code",
      "source": [
        "dict_squares = {i: i**2 for i in range(1, 11)}\n",
        "print(dict_squares)\n",
        "\n"
      ],
      "metadata": {
        "colab": {
          "base_uri": "https://localhost:8080/"
        },
        "id": "WKgD8ghfV9H7",
        "outputId": "94139325-57a3-4f2c-aabc-b16f25e6e31b"
      },
      "execution_count": null,
      "outputs": [
        {
          "output_type": "stream",
          "name": "stdout",
          "text": [
            "{1: 1, 2: 4, 3: 9, 4: 16, 5: 25, 6: 36, 7: 49, 8: 64, 9: 81, 10: 100}\n"
          ]
        }
      ]
    },
    {
      "cell_type": "markdown",
      "source": [
        "6. Write a program that inverts a dictionary (i.e., swaps keys and values). Assume all values are unique."
      ],
      "metadata": {
        "id": "oPkoZDBRWu7M"
      }
    },
    {
      "cell_type": "code",
      "source": [
        "original_dict = {'a': 1, 'b': 2, 'c': 3, 'd': 4}\n",
        "\n",
        "# Invert the dictionary\n",
        "inverted_dict = {value: key for key, value in original_dict.items()}\n",
        "\n",
        "print(\"Inverted dictionary:\", inverted_dict)\n"
      ],
      "metadata": {
        "colab": {
          "base_uri": "https://localhost:8080/"
        },
        "id": "naE3wdFKW2zZ",
        "outputId": "96bd48e2-33d2-4a7e-9495-53f44106fac0"
      },
      "execution_count": null,
      "outputs": [
        {
          "output_type": "stream",
          "name": "stdout",
          "text": [
            "Inverted dictionary: {1: 'a', 2: 'b', 3: 'c', 4: 'd'}\n"
          ]
        }
      ]
    },
    {
      "cell_type": "markdown",
      "source": [
        "7. Given a nested dictionary of students and their subject-wise marks, calculate and print the average marks for each student."
      ],
      "metadata": {
        "id": "mbVi_mGiX3P1"
      }
    },
    {
      "cell_type": "code",
      "source": [
        "# Nested dictionary of students and their marks\n",
        "students = {\n",
        "    \"Rahul\": {\"Maths\": 85, \"Science\": 78, \"English\": 90},\n",
        "    \"Priya\": {\"Maths\": 92, \"Science\": 88, \"English\": 86},\n",
        "    \"Amit\": {\"Maths\": 76, \"Science\": 80, \"English\": 82}\n",
        "}\n",
        "\n",
        "# Calculate and print average marks for each student\n",
        "for name, subjects in students.items():\n",
        "    average = sum(subjects.values()) / len(subjects)\n",
        "    print(f\"{name}: Average marks = {average:.2f}\")\n"
      ],
      "metadata": {
        "colab": {
          "base_uri": "https://localhost:8080/"
        },
        "id": "sD7pOnRzYGG0",
        "outputId": "fdc50247-f215-4980-bb93-ee75da00b04f"
      },
      "execution_count": null,
      "outputs": [
        {
          "output_type": "stream",
          "name": "stdout",
          "text": [
            "Rahul: Average marks = 84.33\n",
            "Priya: Average marks = 88.67\n",
            "Amit: Average marks = 79.33\n"
          ]
        }
      ]
    },
    {
      "cell_type": "markdown",
      "source": [
        "8. Write a program to group words by their length from a list using a dictionary.\n"
      ],
      "metadata": {
        "id": "gAAhJWGHYtTW"
      }
    },
    {
      "cell_type": "code",
      "source": [
        "words = [\"apple\", \"bat\", \"ball\", \"cat\", \"car\", \"dog\", \"elephant\", \"fish\"]\n",
        "\n",
        "# Dictionary to group words by length\n",
        "length_to_words = {}\n",
        "\n",
        "for word in words:\n",
        "    length = len(word)\n",
        "    if length in length_to_words:\n",
        "        length_to_words[length].append(word)\n",
        "    else:\n",
        "        length_to_words[length] = [word]\n",
        "\n",
        "# Print the result\n",
        "for length, word_list in length_to_words.items():\n",
        "    print(f\"Words with {length} letters:\", word_list)\n"
      ],
      "metadata": {
        "colab": {
          "base_uri": "https://localhost:8080/"
        },
        "id": "H4lsMHy5ZjUW",
        "outputId": "87857b7b-2d7b-4290-818c-e619425c487e"
      },
      "execution_count": null,
      "outputs": [
        {
          "output_type": "stream",
          "name": "stdout",
          "text": [
            "Words with 5 letters: ['apple']\n",
            "Words with 3 letters: ['bat', 'cat', 'car', 'dog']\n",
            "Words with 4 letters: ['ball', 'fish']\n",
            "Words with 8 letters: ['elephant']\n"
          ]
        }
      ]
    },
    {
      "cell_type": "markdown",
      "source": [
        "Q9. Write a program to group words by their length from a list using a dictionary.\n"
      ],
      "metadata": {
        "id": "FC6vHSkDZvma"
      }
    },
    {
      "cell_type": "code",
      "source": [
        "words = [\"apple\", \"bat\", \"ball\", \"cat\", \"car\", \"dog\", \"elephant\", \"fish\"]\n",
        "\n",
        "# Dictionary to group words by their length\n",
        "length_groups = {}\n",
        "\n",
        "for word in words:\n",
        "    length = len(word)\n",
        "    # If the length is already a key, append the word to the list\n",
        "    if length in length_groups:\n",
        "        length_groups[length].append(word)\n",
        "    else:\n",
        "        # Otherwise, create a new list for this length\n",
        "        length_groups[length] = [word]\n",
        "\n",
        "# Print the result\n",
        "for length, group in sorted(length_groups.items()):\n",
        "    print(f\"Length {length}: {group}\")\n"
      ],
      "metadata": {
        "colab": {
          "base_uri": "https://localhost:8080/"
        },
        "id": "4Dj-TX-KZ8Wr",
        "outputId": "5cfc7e95-2d70-41cb-fd98-4bf8569e0b8b"
      },
      "execution_count": null,
      "outputs": [
        {
          "output_type": "stream",
          "name": "stdout",
          "text": [
            "Length 3: ['bat', 'cat', 'car', 'dog']\n",
            "Length 4: ['ball', 'fish']\n",
            "Length 5: ['apple']\n",
            "Length 8: ['elephant']\n"
          ]
        }
      ]
    },
    {
      "cell_type": "markdown",
      "source": [
        "10. Create a program that takes a list of tuples (name, score) and builds a dictionary where each name is a key, and the value is a list of all their scores. Then calculate and print each person's average score."
      ],
      "metadata": {
        "id": "yprVmh3taRs4"
      }
    },
    {
      "cell_type": "code",
      "source": [
        "# List of tuples (name, score)\n",
        "scores_list = [\n",
        "    (\"Alice\", 85),\n",
        "    (\"Bob\", 90),\n",
        "    (\"Alice\", 92),\n",
        "    (\"Bob\", 87),\n",
        "    (\"Charlie\", 78),\n",
        "    (\"Alice\", 89),\n",
        "    (\"Charlie\", 82)\n",
        "]\n",
        "\n",
        "# Build the dictionary\n",
        "name_to_scores = {}\n",
        "for name, score in scores_list:\n",
        "    if name in name_to_scores:\n",
        "        name_to_scores[name].append(score)\n",
        "    else:\n",
        "        name_to_scores[name] = [score]\n",
        "\n",
        "# Calculate and print average scores\n",
        "for name, scores in name_to_scores.items():\n",
        "    average = sum(scores) / len(scores)\n",
        "    print(f\"{name}: Average score = {average:.2f}\")\n"
      ],
      "metadata": {
        "colab": {
          "base_uri": "https://localhost:8080/"
        },
        "id": "Gp6q5WJoadON",
        "outputId": "b33a1334-d742-47a7-8da8-a5ee6729d562"
      },
      "execution_count": null,
      "outputs": [
        {
          "output_type": "stream",
          "name": "stdout",
          "text": [
            "Alice: Average score = 88.67\n",
            "Bob: Average score = 88.50\n",
            "Charlie: Average score = 80.00\n"
          ]
        }
      ]
    },
    {
      "cell_type": "markdown",
      "source": [
        "# **Assignment:5**"
      ],
      "metadata": {
        "id": "rWnepsChLVH7"
      }
    },
    {
      "cell_type": "markdown",
      "source": [
        "Q1.WAP to make Pyramid"
      ],
      "metadata": {
        "id": "nh7zHSSeOnXv"
      }
    },
    {
      "cell_type": "code",
      "source": [
        "n = 5\n",
        "\n",
        "for i in range(1, n + 1):\n",
        "    print(' ' * (n - i) + '*' * (2 * i - 1))\n"
      ],
      "metadata": {
        "colab": {
          "base_uri": "https://localhost:8080/"
        },
        "id": "aXHCTh3mOxsc",
        "outputId": "847e5597-815b-446f-f263-c55c5c402292"
      },
      "execution_count": 8,
      "outputs": [
        {
          "output_type": "stream",
          "name": "stdout",
          "text": [
            "    *\n",
            "   ***\n",
            "  *****\n",
            " *******\n",
            "*********\n"
          ]
        }
      ]
    },
    {
      "cell_type": "markdown",
      "source": [
        "Q2.Create a simple menu-drive program using while-loop."
      ],
      "metadata": {
        "id": "MglGEkxAO1YP"
      }
    },
    {
      "cell_type": "code",
      "source": [
        "while True:\n",
        "    print(\"\\n--- Menu ---\")\n",
        "    print(\"1. Say Hello\")\n",
        "    print(\"2. Display Current Date\")\n",
        "    print(\"3. Exit\")\n",
        "\n",
        "    choice = input(\"Enter your choice (1-3): \")\n",
        "\n",
        "    if choice == '1':\n",
        "        print(\"Hello!\")\n",
        "    elif choice == '2':\n",
        "        from datetime import datetime\n",
        "        print(\"Current date:\", datetime.now().strftime(\"%Y-%m-%d\"))\n",
        "    elif choice == '3':\n",
        "        print(\"Exiting the program. Goodbye!\")\n",
        "        break\n",
        "    else:\n",
        "        print(\"Invalid choice. Please try again.\")\n"
      ],
      "metadata": {
        "colab": {
          "base_uri": "https://localhost:8080/"
        },
        "id": "41vmhQ85O6xa",
        "outputId": "84b3e03d-d904-4481-95b0-18c6fbc9f1b9"
      },
      "execution_count": 18,
      "outputs": [
        {
          "output_type": "stream",
          "name": "stdout",
          "text": [
            "\n",
            "--- Menu ---\n",
            "1. Say Hello\n",
            "2. Display Current Date\n",
            "3. Exit\n",
            "Enter your choice (1-3): 3\n",
            "Exiting the program. Goodbye!\n"
          ]
        }
      ]
    },
    {
      "cell_type": "markdown",
      "source": [
        "Q3.Generate a pattern like:"
      ],
      "metadata": {
        "id": "h-IX-R1sPR4f"
      }
    },
    {
      "cell_type": "code",
      "source": [],
      "metadata": {
        "id": "y1-qrB_gPfJK"
      },
      "execution_count": null,
      "outputs": []
    },
    {
      "cell_type": "markdown",
      "source": [
        "Q4.Draw a sqaure pattern like star."
      ],
      "metadata": {
        "id": "cj3hK85pPr-n"
      }
    },
    {
      "cell_type": "code",
      "source": [
        "n = 5\n",
        "\n",
        "for i in range(n):\n",
        "    for j in range(n):\n",
        "        print(\"*\", end=' ')\n",
        "    print()\n"
      ],
      "metadata": {
        "colab": {
          "base_uri": "https://localhost:8080/"
        },
        "id": "_j6ewHFiPt0D",
        "outputId": "7d4c17d1-2955-4b1e-d7ce-a2d01a95e7ee"
      },
      "execution_count": null,
      "outputs": [
        {
          "output_type": "stream",
          "name": "stdout",
          "text": [
            "* * * * * \n",
            "* * * * * \n",
            "* * * * * \n",
            "* * * * * \n",
            "* * * * * \n"
          ]
        }
      ]
    },
    {
      "cell_type": "markdown",
      "source": [
        "Q5.Draw a circular pattern like star."
      ],
      "metadata": {
        "id": "zjURgABWPyHK"
      }
    },
    {
      "cell_type": "code",
      "source": [
        "import math\n",
        "\n",
        "radius = 5\n",
        "\n",
        "for y in range(-radius, radius + 1):\n",
        "    for x in range(-radius, radius + 1):\n",
        "        if x**2 + y**2 <= radius**2 + 0.5:\n",
        "            print(\"*\", end=' ')\n",
        "        else:\n",
        "            print(\" \", end=' ')\n",
        "    print()\n"
      ],
      "metadata": {
        "colab": {
          "base_uri": "https://localhost:8080/"
        },
        "id": "yYBBWe9bP91E",
        "outputId": "4b9d9809-c83e-4525-e097-e9ab58f9d3cc"
      },
      "execution_count": 17,
      "outputs": [
        {
          "output_type": "stream",
          "name": "stdout",
          "text": [
            "          *           \n",
            "    * * * * * * *     \n",
            "  * * * * * * * * *   \n",
            "  * * * * * * * * *   \n",
            "  * * * * * * * * *   \n",
            "* * * * * * * * * * * \n",
            "  * * * * * * * * *   \n",
            "  * * * * * * * * *   \n",
            "  * * * * * * * * *   \n",
            "    * * * * * * *     \n",
            "          *           \n"
          ]
        }
      ]
    },
    {
      "cell_type": "markdown",
      "source": [
        "Q6.Draw a rectangular pattern like star."
      ],
      "metadata": {
        "id": "FSJfkDnLQGWg"
      }
    },
    {
      "cell_type": "code",
      "source": [
        "rows = int(input(\"Enter number of rows: \"))\n",
        "cols = int(input(\"Enter number of columns: \"))\n",
        "\n",
        "for i in range(rows):\n",
        "    for j in range(cols):\n",
        "        print(\"*\", end=\" \")\n",
        "    print()\n"
      ],
      "metadata": {
        "colab": {
          "base_uri": "https://localhost:8080/"
        },
        "id": "W83w4PnbQlqs",
        "outputId": "604d42f8-557a-4188-bd16-da37ae61f3d4"
      },
      "execution_count": null,
      "outputs": [
        {
          "output_type": "stream",
          "name": "stdout",
          "text": [
            "Enter number of rows: 4\n",
            "Enter number of columns: 6\n",
            "* * * * * * \n",
            "* * * * * * \n",
            "* * * * * * \n",
            "* * * * * * \n"
          ]
        }
      ]
    },
    {
      "cell_type": "markdown",
      "source": [
        "Q7.Create a list ofeven numbers belonging to 'S' list.\n"
      ],
      "metadata": {
        "id": "SjJ2PQptRthN"
      }
    },
    {
      "cell_type": "markdown",
      "source": [
        "# **Assignment:6**"
      ],
      "metadata": {
        "id": "KVo-BP3wLbAP"
      }
    },
    {
      "cell_type": "markdown",
      "source": [
        "Tuple Question"
      ],
      "metadata": {
        "id": "O9q9B3KAOdGB"
      }
    },
    {
      "cell_type": "markdown",
      "source": [
        "Q1. Write a Python program to create a tuple with different data types and print its type."
      ],
      "metadata": {
        "id": "ICz2c364LpQr"
      }
    },
    {
      "cell_type": "code",
      "source": [
        "# Creating a tuple with different data types\n",
        "my_tuple = (42, \"Hello\", 3.14, True, [1, 2, 3], {'a': 1})\n",
        "\n",
        "# Printing the tuple+\n",
        "print(\"Tuple contents:\", my_tuple)\n",
        "\n",
        "# Printing the type\n",
        "print(\"Type of the tuple:\", type(my_tuple))\n"
      ],
      "metadata": {
        "id": "ZrX_OqdbL7jv",
        "colab": {
          "base_uri": "https://localhost:8080/"
        },
        "outputId": "489c4c6f-caa2-4325-d83d-878470019172"
      },
      "execution_count": null,
      "outputs": [
        {
          "output_type": "stream",
          "name": "stdout",
          "text": [
            "Tuple contents: (42, 'Hello', 3.14, True, [1, 2, 3], {'a': 1})\n",
            "Type of the tuple: <class 'tuple'>\n"
          ]
        }
      ]
    },
    {
      "cell_type": "markdown",
      "source": [
        "Q2. Given a tuple t = (10, 20, 30, 40, 50), write a program to access the second last element."
      ],
      "metadata": {
        "id": "TsujxaG4MLV7"
      }
    },
    {
      "cell_type": "code",
      "source": [
        "t = (10, 20, 30, 40, 50)\n",
        "second_last_element = t[-2]\n",
        "print(second_last_element)\n"
      ],
      "metadata": {
        "colab": {
          "base_uri": "https://localhost:8080/"
        },
        "id": "xMuORmykMXI0",
        "outputId": "4e7e446b-8cb5-4d34-a88b-e6fe2def5f2c"
      },
      "execution_count": null,
      "outputs": [
        {
          "output_type": "stream",
          "name": "stdout",
          "text": [
            "40\n"
          ]
        }
      ]
    },
    {
      "cell_type": "markdown",
      "source": [
        "Q3. Write a program to count the number of times a given element appears in a tuple."
      ],
      "metadata": {
        "id": "f-c4gvjpMf3J"
      }
    },
    {
      "cell_type": "code",
      "source": [
        "my_tuple = (10, 20, 30, 40, 20, 20, 70, 80)\n",
        "\n",
        "# Element to count\n",
        "element = 20\n",
        "\n",
        "# Count occurrences using count()\n",
        "count = my_tuple.count(element)\n",
        "\n",
        "print(f\"Number of occurrences of {element} = {count}\")\n"
      ],
      "metadata": {
        "colab": {
          "base_uri": "https://localhost:8080/"
        },
        "id": "6sIpyqlCMkP5",
        "outputId": "3a2a6fca-c697-46fe-a4c8-c43659993770"
      },
      "execution_count": 16,
      "outputs": [
        {
          "output_type": "stream",
          "name": "stdout",
          "text": [
            "Number of occurrences of 20 = 3\n"
          ]
        }
      ]
    },
    {
      "cell_type": "markdown",
      "source": [
        "Q4. Write a program to convert a tuple of strings into a single string. Example: ('Python', 'is', 'fun') -->\n",
        "'Python is fun'\n"
      ],
      "metadata": {
        "id": "yScocj_wMpZ_"
      }
    },
    {
      "cell_type": "code",
      "source": [
        "t = ('Python', 'is', 'fun')\n",
        "s = ' '.join(t)\n",
        "print(s)\n"
      ],
      "metadata": {
        "colab": {
          "base_uri": "https://localhost:8080/"
        },
        "id": "NNXN2AnKMxZe",
        "outputId": "ba9a5cb3-a944-463c-f398-078a5fdfc5f4"
      },
      "execution_count": null,
      "outputs": [
        {
          "output_type": "stream",
          "name": "stdout",
          "text": [
            "Python is fun\n"
          ]
        }
      ]
    },
    {
      "cell_type": "markdown",
      "source": [
        "Q5. Write a Python program to find the index of an element in a tuple"
      ],
      "metadata": {
        "id": "8638V7RNM34o"
      }
    },
    {
      "cell_type": "code",
      "source": [
        "t = (10, 20, 30, 40, 50)\n",
        "element = 30\n",
        "\n",
        "index = t.index(element)\n",
        "print(f\"Index of {element} is {index}\")\n"
      ],
      "metadata": {
        "colab": {
          "base_uri": "https://localhost:8080/"
        },
        "id": "XIiiZrA7M9J9",
        "outputId": "8a643246-6c1c-4a3b-a8c6-0dd6360ecc4d"
      },
      "execution_count": null,
      "outputs": [
        {
          "output_type": "stream",
          "name": "stdout",
          "text": [
            "Index of 30 is 2\n"
          ]
        }
      ]
    },
    {
      "cell_type": "markdown",
      "source": [
        "Sets Question"
      ],
      "metadata": {
        "id": "1mBsnoWTOhyj"
      }
    },
    {
      "cell_type": "markdown",
      "source": [
        "Q6. Write a Python program to create two sets and perform union, intersection, and difference."
      ],
      "metadata": {
        "id": "Da5I4vPjNQLf"
      }
    },
    {
      "cell_type": "code",
      "source": [
        "# Create two sets\n",
        "set1 = {1, 2, 3, 4, 5}\n",
        "set2 = {4, 5, 6, 7, 8}\n",
        "\n",
        "# Union: all elements from both sets\n",
        "union = set1 | set2\n",
        "print(\"Union:\", union)\n",
        "\n",
        "# Intersection: common elements in both sets\n",
        "intersection = set1 & set2\n",
        "print(\"Intersection:\", intersection)\n",
        "\n",
        "# Difference: elements in set1 but not in set2\n",
        "difference = set1 - set2\n",
        "print(\"Difference (set1 - set2):\", difference)\n",
        "\n",
        "# Optional: difference (set2 - set1)\n",
        "difference2 = set2 - set1\n",
        "print(\"Difference (set2 - set1):\", difference2)\n"
      ],
      "metadata": {
        "colab": {
          "base_uri": "https://localhost:8080/"
        },
        "id": "GEMZZisINVsW",
        "outputId": "01838956-56c8-4a6c-d2e6-0ffbb3e656cc"
      },
      "execution_count": null,
      "outputs": [
        {
          "output_type": "stream",
          "name": "stdout",
          "text": [
            "Union: {1, 2, 3, 4, 5, 6, 7, 8}\n",
            "Intersection: {4, 5}\n",
            "Difference (set1 - set2): {1, 2, 3}\n",
            "Difference (set2 - set1): {8, 6, 7}\n"
          ]
        }
      ]
    },
    {
      "cell_type": "markdown",
      "source": [
        "Q7. Write a program to check if a given element is present in a set or not."
      ],
      "metadata": {
        "id": "T_fgtTATNan6"
      }
    },
    {
      "cell_type": "code",
      "source": [
        "my_set = {10, 20, 30, 40, 50}\n",
        "\n",
        "# Element to check\n",
        "element = 30\n",
        "\n",
        "# Check if element is in the set\n",
        "if element in my_set:\n",
        "    print(f\"{element} is present in the set\")\n",
        "else:\n",
        "    print(f\"{element} is not present in the set\")\n"
      ],
      "metadata": {
        "colab": {
          "base_uri": "https://localhost:8080/"
        },
        "id": "f4RXvI7PNgwq",
        "outputId": "351778bb-55f9-44ae-f1fb-498df8a5ec2d"
      },
      "execution_count": 15,
      "outputs": [
        {
          "output_type": "stream",
          "name": "stdout",
          "text": [
            "30 is present in the set\n"
          ]
        }
      ]
    },
    {
      "cell_type": "markdown",
      "source": [
        "Q8. Write a program to remove duplicate elements from a list using a set."
      ],
      "metadata": {
        "id": "ZJ_QLLsqN3XT"
      }
    },
    {
      "cell_type": "code",
      "source": [
        "# Original list with duplicates\n",
        "my_list = [1, 2, 2, 3, 4, 4, 5, 6, 6]\n",
        "\n",
        "# Convert the list to a set to remove duplicates\n",
        "unique_set = set(my_list)\n",
        "\n",
        "# Convert the set back to a list (optional, if you need a list result)\n",
        "unique_list = list(unique_set)\n",
        "\n",
        "print(\"Original list:\", my_list)\n",
        "print(\"List after removing duplicates:\", unique_list)\n"
      ],
      "metadata": {
        "colab": {
          "base_uri": "https://localhost:8080/"
        },
        "id": "mZ50XBXbN4bH",
        "outputId": "e665517d-1a31-48d0-bc98-fcde9d645685"
      },
      "execution_count": null,
      "outputs": [
        {
          "output_type": "stream",
          "name": "stdout",
          "text": [
            "Original list: [1, 2, 2, 3, 4, 4, 5, 6, 6]\n",
            "List after removing duplicates: [1, 2, 3, 4, 5, 6]\n"
          ]
        }
      ]
    },
    {
      "cell_type": "markdown",
      "source": [
        "Q9. Write a Python program to find the symmetric difference between two sets."
      ],
      "metadata": {
        "id": "X58d7mSYOCjk"
      }
    },
    {
      "cell_type": "code",
      "source": [
        "# Define two sets\n",
        "set1 = {1, 2, 3, 4, 5}\n",
        "set2 = {4, 5, 6, 7, 8}\n",
        "\n",
        "# Symmetric difference using the ^ operator\n",
        "sym_diff = set1 ^ set2\n",
        "\n",
        "# Alternatively, using the .symmetric_difference() method\n",
        "# sym_diff = set1.symmetric_difference(set2)\n",
        "\n",
        "print(\"Symmetric difference:\", sym_diff)\n"
      ],
      "metadata": {
        "colab": {
          "base_uri": "https://localhost:8080/"
        },
        "id": "_1qvlU8ROIwq",
        "outputId": "e13b0f2b-2566-49e0-f15f-7efaff9b0370"
      },
      "execution_count": null,
      "outputs": [
        {
          "output_type": "stream",
          "name": "stdout",
          "text": [
            "Symmetric difference: {1, 2, 3, 6, 7, 8}\n"
          ]
        }
      ]
    },
    {
      "cell_type": "markdown",
      "source": [
        "Q10. Given a list of numbers, write a Python program to find all unique elements using sets."
      ],
      "metadata": {
        "id": "b71TlYEsOQAd"
      }
    },
    {
      "cell_type": "code",
      "source": [
        "numbers = [1, 2, 2, 3, 4, 4, 5, 5]\n",
        "unique_elements = set(numbers)\n",
        "print(\"Unique elements:\", unique_elements)\n"
      ],
      "metadata": {
        "colab": {
          "base_uri": "https://localhost:8080/"
        },
        "id": "XSf9fVp7OVUQ",
        "outputId": "4e9f8ce2-a8dd-43a9-e205-586e9a951a83"
      },
      "execution_count": null,
      "outputs": [
        {
          "output_type": "stream",
          "name": "stdout",
          "text": [
            "Unique elements: {1, 2, 3, 4, 5}\n"
          ]
        }
      ]
    },
    {
      "cell_type": "markdown",
      "source": [
        "# **Assignment:7**"
      ],
      "metadata": {
        "id": "ZElkdX20LhQ8"
      }
    },
    {
      "cell_type": "markdown",
      "source": [
        "Q1. Write a function to find the factorial of a number using recursion."
      ],
      "metadata": {
        "id": "-LyN0jpAa34u"
      }
    },
    {
      "cell_type": "code",
      "source": [
        "def factorial(n):\n",
        "    if n == 0 or n == 1:\n",
        "        return 1\n",
        "    else:\n",
        "        return n * factorial(n - 1)\n",
        "\n",
        "number = int(input('Enter a number : '))\n",
        "print(f\"The factorial of {number} is {factorial(number)}\")\n"
      ],
      "metadata": {
        "colab": {
          "base_uri": "https://localhost:8080/"
        },
        "id": "y9388r4pa-io",
        "outputId": "b81f6316-815b-4bac-d732-cd38442bd2e3"
      },
      "execution_count": null,
      "outputs": [
        {
          "output_type": "stream",
          "name": "stdout",
          "text": [
            "Enter a number : 12\n",
            "The factorial of 12 is 479001600\n"
          ]
        }
      ]
    },
    {
      "cell_type": "markdown",
      "source": [
        "Q2.Write a function that checks whether a number is prime or not."
      ],
      "metadata": {
        "id": "4VfqzTuBbUAD"
      }
    },
    {
      "cell_type": "code",
      "source": [
        "def is_prime(n):\n",
        "    if n <= 1:\n",
        "        return False\n",
        "    for i in range(2, int(n**0.5) + 1):\n",
        "        if n % i == 0:\n",
        "            return False\n",
        "    return True\n",
        "\n",
        "number = int(input(\"Enter a number: \"))\n",
        "if is_prime(number):\n",
        "    print(f\"{number} is a prime number.\")\n",
        "else:\n",
        "    print(f\"{number} is not a prime number.\")\n"
      ],
      "metadata": {
        "colab": {
          "base_uri": "https://localhost:8080/"
        },
        "id": "xKevOWtsbcx9",
        "outputId": "359aa88b-fe67-4efd-fb3b-6aff9b9cb099"
      },
      "execution_count": null,
      "outputs": [
        {
          "output_type": "stream",
          "name": "stdout",
          "text": [
            "Enter a number: 4\n",
            "4 is not a prime number.\n"
          ]
        }
      ]
    },
    {
      "cell_type": "markdown",
      "source": [
        "Q3.Create a function that takes a string as input and returns the number of vowels in it."
      ],
      "metadata": {
        "id": "Ys6X7pU4cCOU"
      }
    },
    {
      "cell_type": "code",
      "source": [
        "def count_vowels(s):\n",
        "    vowels = \"aeiou\"\n",
        "    count = 0\n",
        "    for char in s:\n",
        "        if char in vowels:\n",
        "            count += 1\n",
        "    return count\n",
        "\n",
        "string = input(\"Enter a string : \")\n",
        "print(\"Number of vowels :\", count_vowels(string))"
      ],
      "metadata": {
        "colab": {
          "base_uri": "https://localhost:8080/"
        },
        "id": "lNRoyj1AcI1D",
        "outputId": "6ef51eaf-ad44-447c-be7e-bcb57a31c974"
      },
      "execution_count": null,
      "outputs": [
        {
          "output_type": "stream",
          "name": "stdout",
          "text": [
            "Enter a string : Regulation\n",
            "Number of vowels : 5\n"
          ]
        }
      ]
    },
    {
      "cell_type": "markdown",
      "source": [
        "Q4.Write a function that accepts a list of numbers and returns the maximum and minimum values."
      ],
      "metadata": {
        "id": "cFLjXkZxdFT-"
      }
    },
    {
      "cell_type": "code",
      "source": [
        "def max_min(numbers):\n",
        "    if not numbers:\n",
        "        return (None, None)\n",
        "    return (max(numbers), min(numbers))\n",
        "\n",
        "numbers = [4, 2, 9, 7, 5]\n",
        "result = max_min(numbers)\n",
        "print(\"Maximum and minimum:\", result)\n"
      ],
      "metadata": {
        "colab": {
          "base_uri": "https://localhost:8080/"
        },
        "id": "lsNG6uSqdSO5",
        "outputId": "13a77033-5c7c-4815-c618-5f8748b1b226"
      },
      "execution_count": null,
      "outputs": [
        {
          "output_type": "stream",
          "name": "stdout",
          "text": [
            "Maximum and minimum: (9, 2)\n"
          ]
        }
      ]
    },
    {
      "cell_type": "markdown",
      "source": [
        "Q5.Write a Python function to calculate the nth Fibonacci number using recursion."
      ],
      "metadata": {
        "id": "sfbMYklgdpz4"
      }
    },
    {
      "cell_type": "code",
      "source": [
        "def fibonacci_number(n):\n",
        "    if n < 0:\n",
        "        raise ValueError(\"n must be a non-negative integer\")\n",
        "    if n == 0:\n",
        "        return 0\n",
        "    elif n == 1:\n",
        "        return 1\n",
        "    else:\n",
        "        return fibonacci_number(n-1) + fibonacci_number(n-2)\n",
        "\n",
        "n = int(input(\"Enter a number : \"))\n",
        "print(f\"The {n}th Fibonacci number is :\", fibonacci_number(n))\n"
      ],
      "metadata": {
        "colab": {
          "base_uri": "https://localhost:8080/"
        },
        "id": "ABRpegE1d8jw",
        "outputId": "1c77451d-4429-4bda-ae38-6a0fd9c8fbf8"
      },
      "execution_count": null,
      "outputs": [
        {
          "output_type": "stream",
          "name": "stdout",
          "text": [
            "Enter a number : 22\n",
            "The 22th Fibonacci number is : 17711\n"
          ]
        }
      ]
    },
    {
      "cell_type": "markdown",
      "source": [
        "Q6.Create a function that accepts two numbers and returns their greatest common divisor (GCD)."
      ],
      "metadata": {
        "id": "8-fswN95eXoH"
      }
    },
    {
      "cell_type": "code",
      "source": [
        "def gcd(a, b):\n",
        "    if b == 0:\n",
        "        return a\n",
        "    else:\n",
        "        return gcd(b, a % b)\n",
        "\n",
        "print(gcd(44, 99))\n",
        "\n"
      ],
      "metadata": {
        "colab": {
          "base_uri": "https://localhost:8080/"
        },
        "id": "m7Y9JUdzedS4",
        "outputId": "38ac6336-39b6-4b89-e895-185ffbb32e2b"
      },
      "execution_count": null,
      "outputs": [
        {
          "output_type": "stream",
          "name": "stdout",
          "text": [
            "11\n"
          ]
        }
      ]
    },
    {
      "cell_type": "markdown",
      "source": [
        "Q7.Write a function that takes a list and returns a new list with only unique elements."
      ],
      "metadata": {
        "id": "2AU5EIkGfIvF"
      }
    },
    {
      "cell_type": "code",
      "source": [
        "def unique_elements(lst):\n",
        "    seen = set()\n",
        "    result = []\n",
        "    for item in lst:\n",
        "        if item not in seen:\n",
        "            seen.add(item)\n",
        "            result.append(item)\n",
        "    return result\n",
        "\n",
        "my_list = [1, 2, 2, 3, 4, 4, 5]\n",
        "print(unique_elements(my_list))\n"
      ],
      "metadata": {
        "colab": {
          "base_uri": "https://localhost:8080/"
        },
        "id": "NkOjA-t3fRGS",
        "outputId": "f454d61e-4f24-46a8-fa37-f281dbcbc6ee"
      },
      "execution_count": 14,
      "outputs": [
        {
          "output_type": "stream",
          "name": "stdout",
          "text": [
            "[1, 2, 3, 4, 5]\n"
          ]
        }
      ]
    },
    {
      "cell_type": "markdown",
      "source": [
        "Q8 Write a function to count the frequency of each word in a given string."
      ],
      "metadata": {
        "id": "b7RIhKTefpBi"
      }
    },
    {
      "cell_type": "code",
      "source": [
        "from collections import Counter\n",
        "\n",
        "def word_frequency(s):\n",
        "    return Counter(s.split())\n",
        "\n",
        "print(word_frequency(\"apple orange banana apple orange apple\"))\n",
        "\n"
      ],
      "metadata": {
        "colab": {
          "base_uri": "https://localhost:8080/"
        },
        "id": "IyoH7SaeftKf",
        "outputId": "32ac7920-12ab-481a-fe9f-1a13c18a3db8"
      },
      "execution_count": null,
      "outputs": [
        {
          "output_type": "stream",
          "name": "stdout",
          "text": [
            "Counter({'apple': 3, 'orange': 2, 'banana': 1})\n"
          ]
        }
      ]
    },
    {
      "cell_type": "markdown",
      "source": [
        "Q9.Write a function that takes a number and returns True if it is a palindrome, otherwise False."
      ],
      "metadata": {
        "id": "tKJUflnkgSvh"
      }
    },
    {
      "cell_type": "code",
      "source": [
        "def is_palindrome(n):\n",
        "    s = str(n)  # Convert the number to a string\n",
        "    return s == s[::-1]  # Compare the string to its reverse\n",
        "\n",
        "print(is_palindrome(12321))\n",
        "print(is_palindrome(12345))\n"
      ],
      "metadata": {
        "colab": {
          "base_uri": "https://localhost:8080/"
        },
        "id": "Yz8iSl1Vga-y",
        "outputId": "6409f994-828c-4b23-ba3a-63f413d282a7"
      },
      "execution_count": null,
      "outputs": [
        {
          "output_type": "stream",
          "name": "stdout",
          "text": [
            "True\n",
            "False\n"
          ]
        }
      ]
    },
    {
      "cell_type": "markdown",
      "source": [
        "Q10.Create a function that takes a temperature in Celsius and returns it in Fahrenheit."
      ],
      "metadata": {
        "id": "UORIr3ZLgsDb"
      }
    },
    {
      "cell_type": "code",
      "source": [
        "def celsius_to_fahrenheit(celsius):\n",
        "    return celsius * 9 / 5 + 32\n",
        "\n",
        "# Example usage\n",
        "print(celsius_to_fahrenheit(25))\n"
      ],
      "metadata": {
        "colab": {
          "base_uri": "https://localhost:8080/"
        },
        "id": "u7_E3aOWhASy",
        "outputId": "498f05b0-c001-4caa-a06f-2e549eb9be3d"
      },
      "execution_count": null,
      "outputs": [
        {
          "output_type": "stream",
          "name": "stdout",
          "text": [
            "77.0\n"
          ]
        }
      ]
    },
    {
      "cell_type": "markdown",
      "source": [
        "# **Assignment:8**"
      ],
      "metadata": {
        "id": "UKPND6mj04KJ"
      }
    },
    {
      "cell_type": "markdown",
      "source": [
        "Q1. Write a Python program to create a new text file and write the text 'Hello, File Handling!' to it.\n"
      ],
      "metadata": {
        "id": "NtvSFDCD1gXf"
      }
    },
    {
      "cell_type": "code",
      "source": [
        "with open('example.txt', 'w') as file:\n",
        "    file.write('Hello, File Handling!')"
      ],
      "metadata": {
        "id": "NdzHLKT9aaMP"
      },
      "execution_count": null,
      "outputs": []
    },
    {
      "cell_type": "markdown",
      "source": [
        "Q2. Write a Python program to read the contents of 'example.txt' and display them on the screen.\n"
      ],
      "metadata": {
        "id": "sTIydTS8ac-k"
      }
    },
    {
      "cell_type": "code",
      "source": [
        "# Step 1: Write to the file\n",
        "with open('example.txt', 'w') as f:\n",
        "    f.write('Hello, File Handling!')\n",
        "\n",
        "# Step 2: Read from the file and display its contents\n",
        "with open('example.txt', 'r') as f:\n",
        "    contents = f.read()\n",
        "    print(contents)\n"
      ],
      "metadata": {
        "colab": {
          "base_uri": "https://localhost:8080/"
        },
        "id": "jRseE5EolItb",
        "outputId": "185b9b80-7cb0-40f9-ecd1-045812dad7fa"
      },
      "execution_count": null,
      "outputs": [
        {
          "output_type": "stream",
          "name": "stdout",
          "text": [
            "Hello, File Handling!\n"
          ]
        }
      ]
    },
    {
      "cell_type": "markdown",
      "source": [
        "Q3. Write a Python program to count the number of words in a given text file.\n"
      ],
      "metadata": {
        "id": "2puP6IDHZqd4"
      }
    },
    {
      "cell_type": "code",
      "source": [
        "def count_words(filename):\n",
        "    with open(filename, 'r') as file:\n",
        "        text = file.read()\n",
        "        words = text.split()\n",
        "        return len(words)\n",
        "\n",
        "# Example usage\n",
        "word_count = count_words('example.txt')\n",
        "print(\"Number of words in the file:\", word_count)\n"
      ],
      "metadata": {
        "colab": {
          "base_uri": "https://localhost:8080/"
        },
        "id": "PtouchkLmGO-",
        "outputId": "a1891aae-72e1-40dc-9f58-a02282bbaa67"
      },
      "execution_count": null,
      "outputs": [
        {
          "output_type": "stream",
          "name": "stdout",
          "text": [
            "Number of words in the file: 3\n"
          ]
        }
      ]
    },
    {
      "cell_type": "markdown",
      "source": [
        "Q4. Write a Python program to read a file and print only those lines which start with the letter 'A'.\n"
      ],
      "metadata": {
        "id": "Yh2gWnrxZvU6"
      }
    },
    {
      "cell_type": "markdown",
      "source": [
        "Q5. Write a Python program to merge the contents of two files into a third file.\n"
      ],
      "metadata": {
        "id": "YZm9JP3vZyhj"
      }
    },
    {
      "cell_type": "markdown",
      "source": [
        "Q6. Write a Python program that reads a text file and prints its content in reverse order (last line first).\n"
      ],
      "metadata": {
        "id": "p9Nr95KKZ3ut"
      }
    },
    {
      "cell_type": "markdown",
      "source": [
        "Q7. Write a Python program to find and replace a word in a file (e.g., replace 'old' with 'new').\n"
      ],
      "metadata": {
        "id": "nWiezeQdZ7Nz"
      }
    },
    {
      "cell_type": "markdown",
      "source": [
        "Q8. Write a Python program to create a log file and append timestamps whenever the program is run.\n"
      ],
      "metadata": {
        "id": "LsqNgryXaAFY"
      }
    },
    {
      "cell_type": "markdown",
      "source": [
        "Q9. Write a Python program to store and read student records (name and marks) from a file.\n"
      ],
      "metadata": {
        "id": "E-nVWlk4aEHX"
      }
    },
    {
      "cell_type": "markdown",
      "source": [
        "Q10. Write a Python program to copy an image file (binary mode) from one location to another."
      ],
      "metadata": {
        "id": "Ldgg_dM5aHcD"
      }
    },
    {
      "cell_type": "markdown",
      "source": [
        "# **Assignment:9**"
      ],
      "metadata": {
        "id": "qOR7Qq1uqG_z"
      }
    },
    {
      "cell_type": "code",
      "source": [
        "!pip install numpy"
      ],
      "metadata": {
        "id": "nPGPjG-k7nns",
        "outputId": "019fdd96-9f24-41a3-a6b9-d6bfb9fd4cfe",
        "colab": {
          "base_uri": "https://localhost:8080/"
        }
      },
      "execution_count": 1,
      "outputs": [
        {
          "output_type": "stream",
          "name": "stdout",
          "text": [
            "Requirement already satisfied: numpy in /usr/local/lib/python3.11/dist-packages (2.0.2)\n"
          ]
        }
      ]
    },
    {
      "cell_type": "code",
      "source": [
        "import numpy as np"
      ],
      "metadata": {
        "id": "i5dtuWUL8R0y"
      },
      "execution_count": 2,
      "outputs": []
    },
    {
      "cell_type": "code",
      "source": [
        "print(np.__version__)"
      ],
      "metadata": {
        "id": "SaOy5Qq88RvY",
        "outputId": "7d2cf1b7-4a4d-4ee5-c057-f247fbb3dba5",
        "colab": {
          "base_uri": "https://localhost:8080/"
        }
      },
      "execution_count": 5,
      "outputs": [
        {
          "output_type": "stream",
          "name": "stdout",
          "text": [
            "2.0.2\n"
          ]
        }
      ]
    },
    {
      "cell_type": "markdown",
      "source": [
        "Q1. Create a NumPy array with values from 1 to 10. Print the shape, dimension, and data type of the\n",
        "array.\n"
      ],
      "metadata": {
        "id": "ouO76O0sqOug"
      }
    },
    {
      "cell_type": "code",
      "source": [
        "import numpy as np\n",
        "\n",
        "arr = np.arange(1, 11)\n",
        "print(\"Array:\", arr)\n",
        "print(\"Shape:\", arr.shape)\n",
        "print(\"Number of dimensions:\", arr.ndim)\n",
        "print(\"Data type:\", arr.dtype)\n"
      ],
      "metadata": {
        "colab": {
          "base_uri": "https://localhost:8080/"
        },
        "id": "JllTfsabrIvo",
        "outputId": "6aa5563a-b201-4a7c-91d5-7e60b0e8a789"
      },
      "execution_count": null,
      "outputs": [
        {
          "output_type": "stream",
          "name": "stdout",
          "text": [
            "Array: [ 1  2  3  4  5  6  7  8  9 10]\n",
            "Shape: (10,)\n",
            "Number of dimensions: 1\n",
            "Data type: int64\n"
          ]
        }
      ]
    },
    {
      "cell_type": "markdown",
      "source": [
        "Q2. Create a 3x3 NumPy array of all zeros and another of all ones. Then create a 3x3 identity matrix.\n"
      ],
      "metadata": {
        "id": "QGSdKpj3tJkB"
      }
    },
    {
      "cell_type": "code",
      "source": [
        "import numpy as np\n",
        "\n",
        "# 3x3 array of all zeros\n",
        "zeros_array = np.zeros((3, 3))\n",
        "print(\"Zeros array:\\n\", zeros_array)\n",
        "\n",
        "# 3x3 array of all ones\n",
        "ones_array = np.ones((3, 3))\n",
        "print(\"Ones array:\\n\", ones_array)\n",
        "\n",
        "# 3x3 identity matrix\n",
        "identity_matrix = np.identity(3)\n",
        "print(\"Identity matrix:\\n\", identity_matrix)\n"
      ],
      "metadata": {
        "id": "w9NuFfE953Gh",
        "colab": {
          "base_uri": "https://localhost:8080/"
        },
        "outputId": "42b7bb54-4f4b-4a1b-b670-5f2901d3403c"
      },
      "execution_count": 4,
      "outputs": [
        {
          "output_type": "stream",
          "name": "stdout",
          "text": [
            "Zeros array:\n",
            " [[0. 0. 0.]\n",
            " [0. 0. 0.]\n",
            " [0. 0. 0.]]\n",
            "Ones array:\n",
            " [[1. 1. 1.]\n",
            " [1. 1. 1.]\n",
            " [1. 1. 1.]]\n",
            "Identity matrix:\n",
            " [[1. 0. 0.]\n",
            " [0. 1. 0.]\n",
            " [0. 0. 1.]]\n"
          ]
        }
      ]
    },
    {
      "cell_type": "markdown",
      "source": [
        "Q3. Generate an array of 15 random integers between 10 and 100 using np.random.randint. Reshape\n",
        "it into a 3x5 matrix and print it."
      ],
      "metadata": {
        "id": "jWtLq6x_tOFA"
      }
    },
    {
      "cell_type": "code",
      "source": [
        "import numpy as np\n",
        "\n",
        "random_ints = np.random.randint(10, 101, size=15)\n",
        "\n",
        "# 3x5 matrix\n",
        "reshaped_matrix = random_ints.reshape(3, 5)\n",
        "\n",
        "print(reshaped_matrix)\n"
      ],
      "metadata": {
        "colab": {
          "base_uri": "https://localhost:8080/"
        },
        "id": "8eaw-pak6WDB",
        "outputId": "1f851b93-0c49-41a8-c6e6-01e215e99040"
      },
      "execution_count": 6,
      "outputs": [
        {
          "output_type": "stream",
          "name": "stdout",
          "text": [
            "[[35 39 92 73 86]\n",
            " [17 66 14 45 68]\n",
            " [34 59 32 19 54]]\n"
          ]
        }
      ]
    },
    {
      "cell_type": "markdown",
      "source": [
        "Q4. Create a NumPy array from 1 to 20. Extract every 3rd element starting from index 1 using slicing.\n"
      ],
      "metadata": {
        "id": "rK06ybZwtSlM"
      }
    },
    {
      "cell_type": "code",
      "source": [
        "import numpy as np\n",
        "\n",
        "# Create an array from 1 to 20 (inclusive)\n",
        "arr = np.arange(1, 21)\n",
        "\n",
        "# Extract every 3rd element starting from index 1 (i.e., arr[1], arr[4], arr[7], ...)\n",
        "result = arr[1::3]\n",
        "\n",
        "print(result)\n"
      ],
      "metadata": {
        "id": "1xyCGGqv6sGa",
        "outputId": "c873105a-eb75-419e-a7b2-c4f34e7aa4cb",
        "colab": {
          "base_uri": "https://localhost:8080/"
        }
      },
      "execution_count": 6,
      "outputs": [
        {
          "output_type": "stream",
          "name": "stdout",
          "text": [
            "[ 2  5  8 11 14 17 20]\n"
          ]
        }
      ]
    },
    {
      "cell_type": "markdown",
      "source": [
        "Q5. Create two arrays: a = np.array([2, 4, 6, 8]) and b = np.array([1, 3, 5, 7]). Perform element-wise addition, multiplication, and compare which elements in a are greater than in b.\n"
      ],
      "metadata": {
        "id": "NuIwH4qBtW-c"
      }
    },
    {
      "cell_type": "code",
      "source": [
        "import numpy as np\n",
        "\n",
        "a = np.array([2, 4, 6, 8])\n",
        "b = np.array([1, 3, 5, 7])\n",
        "\n",
        "# Element-wise addition\n",
        "addition = a + b\n",
        "print(\"Addition:\", addition)\n",
        "\n",
        "# Element-wise multiplication\n",
        "multiplication = a * b\n",
        "print(\"Multiplication:\", multiplication)\n",
        "\n",
        "# Compare which elements in a are greater than in b\n",
        "comparison = a > b\n",
        "print(\"a > b:\", comparison)\n",
        "\n"
      ],
      "metadata": {
        "id": "PPh-zh6S7HLx",
        "outputId": "cbaa5152-67e6-43c6-fe68-a729432c2b4b",
        "colab": {
          "base_uri": "https://localhost:8080/"
        }
      },
      "execution_count": 7,
      "outputs": [
        {
          "output_type": "stream",
          "name": "stdout",
          "text": [
            "Addition: [ 3  7 11 15]\n",
            "Multiplication: [ 2 12 30 56]\n",
            "a > b: [ True  True  True  True]\n"
          ]
        }
      ]
    },
    {
      "cell_type": "markdown",
      "source": [
        "Q6. Create a NumPy array with 20 random values (0 to 1) using np.random.rand(). Find the mean,\n",
        "median, standard deviation, min, and max."
      ],
      "metadata": {
        "id": "yp1ub2YGtaat"
      }
    },
    {
      "cell_type": "code",
      "source": [
        "import numpy as np\n",
        "\n",
        "arr = np.random.rand(20)\n",
        "\n",
        "mean = np.mean(arr)\n",
        "median = np.median(arr)\n",
        "std = np.std(arr)\n",
        "min_val = np.min(arr)\n",
        "max_val = np.max(arr)\n",
        "\n",
        "print(\"Mean:\", mean)\n",
        "print(\"Median:\", median)\n",
        "print(\"Standard deviation:\", std)\n",
        "print(\"Minimum:\", min_val)\n",
        "print(\"Maximum:\", max_val)\n"
      ],
      "metadata": {
        "id": "y0XNTsDj7znY",
        "outputId": "03141214-0557-4f6c-985f-9db6b8aef570",
        "colab": {
          "base_uri": "https://localhost:8080/"
        }
      },
      "execution_count": 8,
      "outputs": [
        {
          "output_type": "stream",
          "name": "stdout",
          "text": [
            "Mean: 0.5372462840767036\n",
            "Median: 0.5033346678669836\n",
            "Standard deviation: 0.2982185753592954\n",
            "Minimum: 0.03615872078614912\n",
            "Maximum: 0.9763608114302003\n"
          ]
        }
      ]
    },
    {
      "cell_type": "markdown",
      "source": [
        "Q7. Given: arr = np.array([[3, 5], [7, 9]]). Find the sum across rows and columns using axis.\n"
      ],
      "metadata": {
        "id": "J7y2YCUvtkhB"
      }
    },
    {
      "cell_type": "code",
      "source": [
        "import numpy as np\n",
        "\n",
        "arr = np.array([[3, 5], [7, 9]])\n",
        "\n",
        "# Sum across rows (axis=0)\n",
        "sum_rows = arr.sum(axis=0)\n",
        "print(\"Sum across rows (axis=0):\", sum_rows)\n",
        "\n",
        "# Sum across columns (axis=1)\n",
        "sum_cols = arr.sum(axis=1)\n",
        "print(\"Sum across columns (axis=1):\", sum_cols)\n"
      ],
      "metadata": {
        "id": "okFBAf--8L04",
        "outputId": "043c2603-103f-4591-fa32-acf5e6733895",
        "colab": {
          "base_uri": "https://localhost:8080/"
        }
      },
      "execution_count": 9,
      "outputs": [
        {
          "output_type": "stream",
          "name": "stdout",
          "text": [
            "Sum across rows (axis=0): [10 14]\n",
            "Sum across columns (axis=1): [ 8 16]\n"
          ]
        }
      ]
    },
    {
      "cell_type": "markdown",
      "source": [
        "Q8. Create a NumPy array of numbers from 10 to 30. Filter and print only the even numbers using\n",
        "boolean indexing."
      ],
      "metadata": {
        "id": "Tv4nE8zFtoHB"
      }
    },
    {
      "cell_type": "code",
      "source": [
        "import numpy as np\n",
        "\n",
        "arr = np.arange(10, 31)\n",
        "\n",
        "even_numbers = arr[arr % 2 == 0]\n",
        "\n",
        "print(\"Even numbers from 10 to 30:\")\n",
        "print(even_numbers)\n"
      ],
      "metadata": {
        "id": "YpmXI1_-8lsV",
        "outputId": "886dc2c0-14b1-4a84-de30-ae0291f1db72",
        "colab": {
          "base_uri": "https://localhost:8080/"
        }
      },
      "execution_count": 10,
      "outputs": [
        {
          "output_type": "stream",
          "name": "stdout",
          "text": [
            "Even numbers from 10 to 30:\n",
            "[10 12 14 16 18 20 22 24 26 28 30]\n"
          ]
        }
      ]
    },
    {
      "cell_type": "markdown",
      "source": [
        "Q9. Generate an array of 10 random integers from 1 to 100. Replace all elements greater than 50 with\n",
        "-1."
      ],
      "metadata": {
        "id": "1nRKgPg1tsGP"
      }
    },
    {
      "cell_type": "code",
      "source": [
        "import numpy as np\n",
        "\n",
        "arr = np.random.randint(1, 101, size=10)\n",
        "\n",
        "print(\"Original array:\")\n",
        "print(arr)\n",
        "\n",
        "arr[arr > 50] = -1\n",
        "\n",
        "print(\"Modified array:\")\n",
        "print(arr)\n"
      ],
      "metadata": {
        "id": "4CJX7chH9EC8",
        "outputId": "ccf8ef35-e431-429e-d6e7-7dd10a16844d",
        "colab": {
          "base_uri": "https://localhost:8080/"
        }
      },
      "execution_count": 11,
      "outputs": [
        {
          "output_type": "stream",
          "name": "stdout",
          "text": [
            "Original array:\n",
            "[20 92 57 98 10 17 77 38 32 24]\n",
            "Modified array:\n",
            "[20 -1 -1 -1 10 17 -1 38 32 24]\n"
          ]
        }
      ]
    },
    {
      "cell_type": "markdown",
      "source": [
        "Q10. Create two arrays: x = np.array([[1, 2], [3, 4]]) and y = np.array([[5, 6], [7, 8]]). Stack them\n",
        "vertically and horizontally, then flatten the result into a 1D array."
      ],
      "metadata": {
        "id": "ZUeg0UXzt0os"
      }
    },
    {
      "cell_type": "code",
      "source": [
        "import numpy as np\n",
        "\n",
        "x = np.array([[1, 2], [3, 4]])\n",
        "y = np.array([[5, 6], [7, 8]])\n",
        "\n",
        "vstacked = np.vstack((x, y))\n",
        "print(\"Vertically stacked:\\n\", vstacked)\n",
        "\n",
        "hstacked = np.hstack((x, y))\n",
        "print(\"Horizontally stacked:\\n\", hstacked)\n",
        "\n",
        "flattened = vstacked.flatten()\n",
        "print(\"Flattened (from vertical stack):\\n\", flattened)\n",
        "\n",
        "flattened_h = hstacked.flatten()\n",
        "print(\"Flattened (from horizontal stack):\\n\", flattened_h)\n"
      ],
      "metadata": {
        "id": "sgSjfnaj9edH",
        "outputId": "dd33dd4c-c94f-4bce-a3eb-db2af28fc65a",
        "colab": {
          "base_uri": "https://localhost:8080/"
        }
      },
      "execution_count": 12,
      "outputs": [
        {
          "output_type": "stream",
          "name": "stdout",
          "text": [
            "Vertically stacked:\n",
            " [[1 2]\n",
            " [3 4]\n",
            " [5 6]\n",
            " [7 8]]\n",
            "Horizontally stacked:\n",
            " [[1 2 5 6]\n",
            " [3 4 7 8]]\n",
            "Flattened (from vertical stack):\n",
            " [1 2 3 4 5 6 7 8]\n",
            "Flattened (from horizontal stack):\n",
            " [1 2 5 6 3 4 7 8]\n"
          ]
        }
      ]
    }
  ]
}